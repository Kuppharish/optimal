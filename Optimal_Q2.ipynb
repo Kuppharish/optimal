{
 "cells": [
  {
   "cell_type": "code",
   "execution_count": 1,
   "metadata": {},
   "outputs": [],
   "source": [
    "import numpy as np\n",
    "import matplotlib.pyplot as plt"
   ]
  },
  {
   "cell_type": "code",
   "execution_count": 2,
   "metadata": {},
   "outputs": [
    {
     "name": "stdout",
     "output_type": "stream",
     "text": [
      "2\n"
     ]
    }
   ],
   "source": [
    "S = np.arange(-4,5)\n",
    "U = np.arange(-2,3)\n",
    "print(S[0+4]+U[4])"
   ]
  },
  {
   "cell_type": "code",
   "execution_count": 3,
   "metadata": {},
   "outputs": [],
   "source": [
    "def Optimalfunction1():\n",
    "    J = []\n",
    "    MU = []\n",
    "    for i in range(0,16):\n",
    "        V=[]\n",
    "        mu=[]\n",
    "        if(i == 0):\n",
    "            for j in range(0,S.size):\n",
    "                if(S[j]==0):\n",
    "                    V.append(0)\n",
    "                else:\n",
    "                    V.append(float('inf'))\n",
    "        else:\n",
    "            for j in range(0,S.size):\n",
    "                jt = float('inf')\n",
    "                c = -4\n",
    "                for k in range(0,U.size):\n",
    "                    xn = S[j]+U[k]\n",
    "                    if(xn<5 and xn>-5):\n",
    "                        j1 = J[-1][xn+4]+(S[j]+4)*(S[j]+4)+U[k]*U[k]\n",
    "                        if(j1<jt):\n",
    "                            c = U[k]\n",
    "                            jt = j1\n",
    "                V.append(jt)\n",
    "                mu.append(c)\n",
    "        J.append(V)\n",
    "        if(i!=0):\n",
    "            MU.append(mu)\n",
    "    return J,MU"
   ]
  },
  {
   "cell_type": "code",
   "execution_count": 4,
   "metadata": {},
   "outputs": [
    {
     "name": "stdout",
     "output_type": "stream",
     "text": [
      "11\n",
      "[-4, -4, 2, 1, 0, -1, -2, -4, -4]\n"
     ]
    }
   ],
   "source": [
    "J,MU = Optimalfunction1()\n",
    "print(min(J[-1]))\n",
    "print(MU[0])"
   ]
  },
  {
   "cell_type": "code",
   "execution_count": 5,
   "metadata": {},
   "outputs": [
    {
     "name": "stdout",
     "output_type": "stream",
     "text": [
      "146\n"
     ]
    }
   ],
   "source": [
    "print(J[15-4][4+4])"
   ]
  },
  {
   "cell_type": "code",
   "execution_count": 6,
   "metadata": {},
   "outputs": [],
   "source": [
    "def optimalpath(x,MU):\n",
    "    NU=[]\n",
    "    T=[]\n",
    "    NU.append(x)\n",
    "    for i in range(0,15):\n",
    "        T.append(MU[14-i][x+4])\n",
    "        x = x+MU[14-i][x+4]\n",
    "        NU.append(x)\n",
    "    return NU,T"
   ]
  },
  {
   "cell_type": "code",
   "execution_count": 7,
   "metadata": {},
   "outputs": [
    {
     "data": {
      "text/plain": [
       "<matplotlib.legend.Legend at 0x7f651ed02828>"
      ]
     },
     "execution_count": 7,
     "metadata": {},
     "output_type": "execute_result"
    },
    {
     "data": {
      "image/png": "[encoded data removed]",
      "text/plain": [
       "<Figure size 432x288 with 1 Axes>"
      ]
     },
     "metadata": {
      "needs_background": "light"
     },
     "output_type": "display_data"
    },
    {
     "data": {
      "image/png": "[encoded data removed]",
      "text/plain": [
       "<Figure size 432x288 with 1 Axes>"
      ]
     },
     "metadata": {
      "needs_background": "light"
     },
     "output_type": "display_data"
    }
   ],
   "source": [
    "J,MU = Optimalfunction1()\n",
    "t = np.arange(0,16)\n",
    "plt.figure(1)\n",
    "plt.plot(t, optimalpath(0,MU)[0], 'r',label = \"x_0 = 0\")\n",
    "plt.plot(t, optimalpath(1,MU)[0], 'b',label = \"x_0 = 1\")\n",
    "plt.plot(t, optimalpath(-4,MU)[0], 'g',label = \"x_0 = -4\")\n",
    "plt.legend(loc=\"upper center\")\n",
    "t = np.arange(0,15)\n",
    "plt.figure(2)\n",
    "plt.plot(t, optimalpath(0,MU)[1], 'r',label = \"x_0 = 0\")\n",
    "plt.plot(t, optimalpath(1,MU)[1], 'b',label = \"x_0 = 1\")\n",
    "plt.plot(t, optimalpath(-4,MU)[1], 'g',label = \"x_0 = -4\")\n",
    "plt.legend(loc=\"upper center\")"
   ]
  },
  {
   "cell_type": "code",
   "execution_count": 8,
   "metadata": {},
   "outputs": [],
   "source": [
    "def Optimalfunction2():\n",
    "    J = []\n",
    "    MU = []\n",
    "    for i in range(0,16):\n",
    "        V=[]\n",
    "        mu=[]\n",
    "        if(i == 0):\n",
    "            for j in range(0,S.size):\n",
    "                V.append(0)\n",
    "        else:\n",
    "            for j in range(0,S.size):\n",
    "                u = 1231541;\n",
    "                c = -4\n",
    "                for k in range(0,U.size):\n",
    "                    xn = S[j]+U[k]\n",
    "                    if(xn<5 and xn>-5):\n",
    "                        u1 = J[-1][xn+4]+(S[j]+4)*(S[j]+4)\n",
    "                        if(u1<u):\n",
    "                            c = U[k]\n",
    "                            u = u1\n",
    "                V.append(u)\n",
    "                mu.append(c)\n",
    "        J.append(V)\n",
    "        if(i!=0):\n",
    "            MU.append(mu)\n",
    "    return J,MU"
   ]
  },
  {
   "cell_type": "code",
   "execution_count": 9,
   "metadata": {},
   "outputs": [
    {
     "name": "stdout",
     "output_type": "stream",
     "text": [
      "0\n",
      "146\n"
     ]
    },
    {
     "data": {
      "text/plain": [
       "<matplotlib.legend.Legend at 0x7f651ebd3a58>"
      ]
     },
     "execution_count": 9,
     "metadata": {},
     "output_type": "execute_result"
    },
    {
     "data": {
      "image/png": "[encoded data removed]",
      "text/plain": [
       "<Figure size 432x288 with 1 Axes>"
      ]
     },
     "metadata": {
      "needs_background": "light"
     },
     "output_type": "display_data"
    },
    {
     "data": {
      "image/png": "[encoded data removed]",
      "text/plain": [
       "<Figure size 432x288 with 1 Axes>"
      ]
     },
     "metadata": {
      "needs_background": "light"
     },
     "output_type": "display_data"
    }
   ],
   "source": [
    "J1,MU1 = Optimalfunction2()\n",
    "print(min(J1[-1]))\n",
    "print(J[15-4][4+4])\n",
    "t = np.arange(0,16)\n",
    "plt.figure(1)\n",
    "plt.plot(t, optimalpath(0,MU1)[0], 'r',label = \"x_0 = 0\")\n",
    "plt.plot(t, optimalpath(1,MU1)[0], 'b',label = \"x_0 = 1\")\n",
    "plt.plot(t, optimalpath(-4,MU1)[0], 'g',label = \"x_0 = -4\")\n",
    "plt.legend(loc=\"upper right\")\n",
    "t = np.arange(0,15)\n",
    "plt.figure(2)\n",
    "plt.plot(t, optimalpath(0,MU1)[1], 'r',label = \"x_0 = 0\")\n",
    "plt.plot(t, optimalpath(1,MU1)[1], 'b',label = \"x_0 = 1\")\n",
    "plt.plot(t, optimalpath(-4,MU1)[1], 'g',label = \"x_0 = -4\")\n",
    "plt.legend(loc=\"upper right\")"
   ]
  }
 ],
 "metadata": {
  "kernelspec": {
   "display_name": "Python 3",
   "language": "python",
   "name": "python3"
  },
  "language_info": {
   "codemirror_mode": {
    "name": "ipython",
    "version": 3
   },
   "file_extension": ".py",
   "mimetype": "text/x-python",
   "name": "python",
   "nbconvert_exporter": "python",
   "pygments_lexer": "ipython3",
   "version": "3.5.2"
  }
 },
 "nbformat": 4,
 "nbformat_minor": 4
}
